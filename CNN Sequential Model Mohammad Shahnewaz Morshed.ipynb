{
 "cells": [
  {
   "cell_type": "markdown",
   "id": "bd541b7c-1ccb-4fc0-b6d4-9ff1b2e67867",
   "metadata": {},
   "source": [
    "# Artificial Neural Network (ANN) and Convolutional Neural Network (CNN) Sequential Model\r\n",
    "\r\n",
    "---\r\n",
    "## Project Overview\r\n",
    "**Title:** ANN and CNN Sequential Model  \r\n",
    "**Author:** Mohammad Shahnewaz Morshed  \r\n",
    "**Dataset:** Modified National Institute of Standards and Technology (MNIST)\r\n",
    "\r\n",
    "---\r\n",
    "\r\n",
    "## Dataset Details\r\n",
    "| **Attribute**         | **Description**                          |\r\n",
    "|-----------------------|------------------------------------------|\r\n",
    "| **Name**             | MNIST                                    |\r\n",
    "| **Type**             | Handwritten Digits                       |\r\n",
    "| **Size**             | 70,000 images (60,000 train, 10,000 test) |\r\n",
    "| **Dimensions**       | 28x28 pixels                             |\r\n",
    "| **Classes**          | 10 (Digits 0-9)                          |\r\n",
    "\r\n",
    "---\r\n",
    "\r\n",
    "## Model Structure\r\n",
    "<table style=\"width: 100%; border-collapse: collapse;\">\r\n",
    "  <tr>\r\n",
    "    <th style=\"background-color: #3498db; color: white; padding: 10px; text-align: center;\">ANN Layers</th>\r\n",
    "    <th style=\"background-color: #e74c3c; color: white; padding: 10px; text-align: center;\">CNN Layers</th>\r\n",
    "  </tr>\r\n",
    "  <tr>\r\n",
    "    <td style=\"padding: 10px; vertical-align: top;\">\r\n",
    "      - <strong>Input Layer:</strong> Flattened 28x28 images (784 neurons)<br>\r\n",
    "      - <strong>Hidden Layers:</strong> Dense layers with ReLU activation<br>\r\n",
    "      - <strong>Output Layer:</strong> 10 neurons with Softmax activation\r\n",
    "    </td>\r\n",
    "    <td style=\"padding: 10px; vertical-align: top;\">\r\n",
    "      - <strong>Convolutional Layers:</strong> Feature extraction with filters<br>\r\n",
    "      - <strong>Pooling Layers:</strong> MaxPooling for dimensionality reduction<br>\r\n",
    "      - <strong>Fully Connected Layers:</strong> Dense layers for classification<br>\r\n",
    "      - <strong>Output Layer:</strong> Softmax for digit prediction\r\n",
    "    </td>\r\n",
    "  </tr>\r\n",
    "</table>\r\n",
    "\r\n",
    "---"
   ]
  },
  {
   "cell_type": "markdown",
   "id": "cb86430f-5414-451c-b0fb-d39556802a75",
   "metadata": {},
   "source": [
    "## **Step 1: Importing the Libraries**\n",
    "### Essential libraries for building and training a Convolutional Neural Network (CNN) with TensorFlow and Keras to classify handwritten digits using the MNIST dataset."
   ]
  },
  {
   "cell_type": "code",
   "execution_count": 495,
   "id": "85dc0468-27ad-4e50-8bbb-91fdd04dc8d9",
   "metadata": {},
   "outputs": [],
   "source": [
    "import numpy as np\n",
    "import matplotlib.pyplot as plt\n",
    "import seaborn as sns\n",
    "import math\n",
    "\n",
    "# TensorFlow and KerasKeras Sequential Model for classifying handwritten digits using the MNIST dataset\n",
    "import tensorflow as tf\n",
    "from tensorflow.keras.models import Sequential\n",
    "\n",
    "# Layers and optimizers for constructing and training a CNN to classify handwritten digits in the MNIST dataset\n",
    "from tensorflow.keras.layers import Dense, Dropout, Flatten, Conv2D, MaxPooling2D, BatchNormalization, Activation, LeakyReLU\n",
    "from tensorflow.keras.optimizers import Adam,SGD\n",
    "\n",
    "# Suppress warnings (e.g., deprecation warnings)\n",
    "import warnings\n",
    "warnings.filterwarnings(\"ignore\")"
   ]
  },
  {
   "cell_type": "markdown",
   "id": "129d3066-82f6-48c0-9d5e-969c680ea9ad",
   "metadata": {},
   "source": [
    "## **Step 2: Loading the MNIST Dataset**\n",
    "* MNIST stands for **Modified National Institute of Standards and Technology**. Dataset consists of 60,000 grayscale images, representation of handwritten digits from 0 to 9.\n",
    "* The objective is to correctly classify each image as one of the 10 possible digits, ranging from 0 to 9.\n",
    "* The MNIST dataset is readily available in TensorFlow and Keras as an **N-dimensional Numpy array**, allowing it to be directly imported and used.\n",
    "* **mnist.load_data()** eturns both training and testing datasets, where the training set contains 60,000 images stored as NumPy arrays, and the test set contains 10,000 images in the same format."
   ]
  },
  {
   "cell_type": "code",
   "execution_count": 498,
   "id": "c2ce0a0a-8535-4b4b-aeee-f5339c25be21",
   "metadata": {},
   "outputs": [],
   "source": [
    "# Data loading\n",
    "from tensorflow.keras.datasets import mnist\n",
    "(X_train, y_train), (X_test, y_test) = mnist.load_data()"
   ]
  },
  {
   "cell_type": "code",
   "execution_count": 500,
   "id": "fdacb3f8-c2d6-45ba-aee3-e8add8282436",
   "metadata": {},
   "outputs": [
    {
     "data": {
      "text/plain": [
       "(60000, 28, 28)"
      ]
     },
     "execution_count": 500,
     "metadata": {},
     "output_type": "execute_result"
    }
   ],
   "source": [
    "X_train.shape"
   ]
  },
  {
   "cell_type": "markdown",
   "id": "b7366bcd-6b43-43be-92aa-5102a9985649",
   "metadata": {},
   "source": [
    "### Shape and Structure of the MNIST Dataset\n",
    "* The first dimension, with a size of 60,000, represents the total number of images in the training dataset. Each image is stacked sequentially, creating a 3D structure.\n",
    "* \n",
    "The second and third dimensions, both of size 28, correspond to the height and width of each individual 2D grayscale image, indicating the number of pixels in these directions."
   ]
  },
  {
   "cell_type": "markdown",
   "id": "a32c05b0-fc1c-4a5d-8de8-b6fd382970ac",
   "metadata": {},
   "source": [
    "### A 2-dimensional Numpy representation of the first image in the training data"
   ]
  },
  {
   "cell_type": "code",
   "execution_count": 504,
   "id": "fff858d9-2df9-4e5b-bea0-a626d0557e36",
   "metadata": {},
   "outputs": [
    {
     "data": {
      "text/plain": [
       "array([[  0,   0,   0,   0,   0,   0,   0,   0,   0,   0,   0,   0,   0,\n",
       "          0,   0,   0,   0,   0,   0,   0,   0,   0,   0,   0,   0,   0,\n",
       "          0,   0],\n",
       "       [  0,   0,   0,   0,   0,   0,   0,   0,   0,   0,   0,   0,   0,\n",
       "          0,   0,   0,   0,   0,   0,   0,   0,   0,   0,   0,   0,   0,\n",
       "          0,   0],\n",
       "       [  0,   0,   0,   0,   0,   0,   0,   0,   0,   0,   0,   0,   0,\n",
       "          0,   0,   0,   0,   0,   0,   0,   0,   0,   0,   0,   0,   0,\n",
       "          0,   0],\n",
       "       [  0,   0,   0,   0,   0,   0,   0,   0,   0,   0,   0,   0,   0,\n",
       "          0,   0,   0,   0,   0,   0,   0,   0,   0,   0,   0,   0,   0,\n",
       "          0,   0],\n",
       "       [  0,   0,   0,   0,   0,   0,   0,   0,   0,   0,   0,   0,   0,\n",
       "          0,   0,   0,   0,   0,   0,   0,   0,   0,   0,   0,   0,   0,\n",
       "          0,   0],\n",
       "       [  0,   0,   0,   0,   0,   0,   0,   0,   0,   0,   0,   0,   3,\n",
       "         18,  18,  18, 126, 136, 175,  26, 166, 255, 247, 127,   0,   0,\n",
       "          0,   0],\n",
       "       [  0,   0,   0,   0,   0,   0,   0,   0,  30,  36,  94, 154, 170,\n",
       "        253, 253, 253, 253, 253, 225, 172, 253, 242, 195,  64,   0,   0,\n",
       "          0,   0],\n",
       "       [  0,   0,   0,   0,   0,   0,   0,  49, 238, 253, 253, 253, 253,\n",
       "        253, 253, 253, 253, 251,  93,  82,  82,  56,  39,   0,   0,   0,\n",
       "          0,   0],\n",
       "       [  0,   0,   0,   0,   0,   0,   0,  18, 219, 253, 253, 253, 253,\n",
       "        253, 198, 182, 247, 241,   0,   0,   0,   0,   0,   0,   0,   0,\n",
       "          0,   0],\n",
       "       [  0,   0,   0,   0,   0,   0,   0,   0,  80, 156, 107, 253, 253,\n",
       "        205,  11,   0,  43, 154,   0,   0,   0,   0,   0,   0,   0,   0,\n",
       "          0,   0],\n",
       "       [  0,   0,   0,   0,   0,   0,   0,   0,   0,  14,   1, 154, 253,\n",
       "         90,   0,   0,   0,   0,   0,   0,   0,   0,   0,   0,   0,   0,\n",
       "          0,   0],\n",
       "       [  0,   0,   0,   0,   0,   0,   0,   0,   0,   0,   0, 139, 253,\n",
       "        190,   2,   0,   0,   0,   0,   0,   0,   0,   0,   0,   0,   0,\n",
       "          0,   0],\n",
       "       [  0,   0,   0,   0,   0,   0,   0,   0,   0,   0,   0,  11, 190,\n",
       "        253,  70,   0,   0,   0,   0,   0,   0,   0,   0,   0,   0,   0,\n",
       "          0,   0],\n",
       "       [  0,   0,   0,   0,   0,   0,   0,   0,   0,   0,   0,   0,  35,\n",
       "        241, 225, 160, 108,   1,   0,   0,   0,   0,   0,   0,   0,   0,\n",
       "          0,   0],\n",
       "       [  0,   0,   0,   0,   0,   0,   0,   0,   0,   0,   0,   0,   0,\n",
       "         81, 240, 253, 253, 119,  25,   0,   0,   0,   0,   0,   0,   0,\n",
       "          0,   0],\n",
       "       [  0,   0,   0,   0,   0,   0,   0,   0,   0,   0,   0,   0,   0,\n",
       "          0,  45, 186, 253, 253, 150,  27,   0,   0,   0,   0,   0,   0,\n",
       "          0,   0],\n",
       "       [  0,   0,   0,   0,   0,   0,   0,   0,   0,   0,   0,   0,   0,\n",
       "          0,   0,  16,  93, 252, 253, 187,   0,   0,   0,   0,   0,   0,\n",
       "          0,   0],\n",
       "       [  0,   0,   0,   0,   0,   0,   0,   0,   0,   0,   0,   0,   0,\n",
       "          0,   0,   0,   0, 249, 253, 249,  64,   0,   0,   0,   0,   0,\n",
       "          0,   0],\n",
       "       [  0,   0,   0,   0,   0,   0,   0,   0,   0,   0,   0,   0,   0,\n",
       "          0,  46, 130, 183, 253, 253, 207,   2,   0,   0,   0,   0,   0,\n",
       "          0,   0],\n",
       "       [  0,   0,   0,   0,   0,   0,   0,   0,   0,   0,   0,   0,  39,\n",
       "        148, 229, 253, 253, 253, 250, 182,   0,   0,   0,   0,   0,   0,\n",
       "          0,   0],\n",
       "       [  0,   0,   0,   0,   0,   0,   0,   0,   0,   0,  24, 114, 221,\n",
       "        253, 253, 253, 253, 201,  78,   0,   0,   0,   0,   0,   0,   0,\n",
       "          0,   0],\n",
       "       [  0,   0,   0,   0,   0,   0,   0,   0,  23,  66, 213, 253, 253,\n",
       "        253, 253, 198,  81,   2,   0,   0,   0,   0,   0,   0,   0,   0,\n",
       "          0,   0],\n",
       "       [  0,   0,   0,   0,   0,   0,  18, 171, 219, 253, 253, 253, 253,\n",
       "        195,  80,   9,   0,   0,   0,   0,   0,   0,   0,   0,   0,   0,\n",
       "          0,   0],\n",
       "       [  0,   0,   0,   0,  55, 172, 226, 253, 253, 253, 253, 244, 133,\n",
       "         11,   0,   0,   0,   0,   0,   0,   0,   0,   0,   0,   0,   0,\n",
       "          0,   0],\n",
       "       [  0,   0,   0,   0, 136, 253, 253, 253, 212, 135, 132,  16,   0,\n",
       "          0,   0,   0,   0,   0,   0,   0,   0,   0,   0,   0,   0,   0,\n",
       "          0,   0],\n",
       "       [  0,   0,   0,   0,   0,   0,   0,   0,   0,   0,   0,   0,   0,\n",
       "          0,   0,   0,   0,   0,   0,   0,   0,   0,   0,   0,   0,   0,\n",
       "          0,   0],\n",
       "       [  0,   0,   0,   0,   0,   0,   0,   0,   0,   0,   0,   0,   0,\n",
       "          0,   0,   0,   0,   0,   0,   0,   0,   0,   0,   0,   0,   0,\n",
       "          0,   0],\n",
       "       [  0,   0,   0,   0,   0,   0,   0,   0,   0,   0,   0,   0,   0,\n",
       "          0,   0,   0,   0,   0,   0,   0,   0,   0,   0,   0,   0,   0,\n",
       "          0,   0]], dtype=uint8)"
      ]
     },
     "execution_count": 504,
     "metadata": {},
     "output_type": "execute_result"
    }
   ],
   "source": [
    "X_train[0]"
   ]
  },
  {
   "cell_type": "code",
   "execution_count": 506,
   "id": "38dde352-4b1b-4f71-9104-2877661c2bd5",
   "metadata": {},
   "outputs": [
    {
     "data": {
      "text/plain": [
       "5"
      ]
     },
     "execution_count": 506,
     "metadata": {},
     "output_type": "execute_result"
    }
   ],
   "source": [
    "y_train[0]"
   ]
  },
  {
   "cell_type": "code",
   "execution_count": 508,
   "id": "f4cca018-826a-4b52-b447-67df1cab5c94",
   "metadata": {},
   "outputs": [
    {
     "data": {
      "text/plain": [
       "(10000, 28, 28)"
      ]
     },
     "execution_count": 508,
     "metadata": {},
     "output_type": "execute_result"
    }
   ],
   "source": [
    "X_test.shape"
   ]
  },
  {
   "cell_type": "markdown",
   "id": "795486bf-cf33-4684-ad68-fcdf30a76be1",
   "metadata": {},
   "source": [
    "* **X_train[0]:** is the pixel data for the first image, where each value ranges from 0 to 255. The array represents a grayscale image of a handwritten digit. The zeros in the array correspond to black pixels, and higher values correspond to lighter shades of gray, up to white.\n",
    "* **y_train[0]:** is the corresponding label indicating that the image is of the digit '5'.\n",
    "* The test dataset contains 10,000 images, each a 28x28 pixel grayscale image."
   ]
  },
  {
   "cell_type": "markdown",
   "id": "26c66709-3961-472d-9092-62a612fdec6a",
   "metadata": {},
   "source": [
    "## **Step 3: Visualizing the Data**"
   ]
  },
  {
   "cell_type": "markdown",
   "id": "66c26f47-f7eb-484a-9070-cafc34c91e7a",
   "metadata": {},
   "source": [
    "### Converting the Numpy arrays to images and visualizing a few random images"
   ]
  },
  {
   "cell_type": "code",
   "execution_count": 513,
   "id": "68595329-a25c-4725-ae22-ac94e015a56e",
   "metadata": {},
   "outputs": [
    {
     "data": {
      "image/png": "[encoded data removed]",
      "text/plain": [
       "<Figure size 900x400 with 12 Axes>"
      ]
     },
     "metadata": {},
     "output_type": "display_data"
    }
   ],
   "source": [
    "# Setting the Number of Classes (likely digits 0-9):\n",
    "num_classes=10\n",
    "\n",
    "# Obtaining Unique Classes\n",
    "categories=np.unique(y_train)\n",
    "rows = 2\n",
    "cols = 6\n",
    "fig = plt.figure(figsize=(9, 4))\n",
    "for i in range(cols):\n",
    "    for j in range(rows):\n",
    "        random_index = np.random.randint(0, len(y_train))\n",
    "        ax = fig.add_subplot(rows, cols, i * rows + j + 1)\n",
    "        ax.imshow(X_train[random_index, :], cmap=plt.get_cmap('gray'))\n",
    "        ax.set_title(categories[y_train[random_index]])\n",
    "plt.show()"
   ]
  },
  {
   "cell_type": "code",
   "execution_count": 515,
   "id": "8b074517-7ef1-4937-a821-81ac917366c8",
   "metadata": {},
   "outputs": [
    {
     "data": {
      "image/png": "[encoded data removed]",
      "text/plain": [
       "<Figure size 640x480 with 1 Axes>"
      ]
     },
     "metadata": {},
     "output_type": "display_data"
    }
   ],
   "source": [
    "# Visualize the Distribution of Each Class\n",
    "count_plot = sns.countplot(x=y_train)"
   ]
  },
  {
   "cell_type": "markdown",
   "id": "1954d0e3-f4fd-4b33-8524-532579fbafbf",
   "metadata": {},
   "source": [
    "* The dataset is balanced, with each class having roughly the same number of images.\n",
    "* So, **accuracy should be a good evaluation metric** for the model performance in this case study."
   ]
  },
  {
   "cell_type": "markdown",
   "id": "7b4ed4e7-2ad9-4ba8-9b4a-49785e3bc55f",
   "metadata": {},
   "source": [
    "## **Step 4: Data Preparation**"
   ]
  },
  {
   "cell_type": "markdown",
   "id": "03043fa5-d657-46c4-b726-ab876fadf646",
   "metadata": {},
   "source": [
    "### Reshaping and Normalizing the Dataset: <br>\n",
    "\n",
    "* Grayscale images are inherently single-channel. However, MNIST datasets store images in a 3D format. Reshaping ensures that the data is in the correct format for processing by neural networks.\n",
    "* The next step is normalizing the pixel values of the images to a common scale. The MNIST dataset consists of grayscale images with pixel values ranging from 0 to 255. Normalization typically involves scaling these values to a range of 0 to 1.\n",
    "\n",
    "### Normalization is recommended when training a neural network model: <br>\n",
    "\n",
    "1. **Reducing Local Optima:** Normalization helps in smoothing the optimization landscape, making it easier for the optimization algorithm to navigate and find the overall solution (global optimum). This reduces the chances of the model getting stuck in suboptimal solutions (local optima) where it cannot improve further.\n",
    "\n",
    "2. **Weight decay:** \n",
    "Weight decay is a regularization technique used to prevent overfitting by adding a penalty to the loss function based on the magnitude of the model's weights. When inputs are normalized, the weights tend to be more consistent and stable. This makes it easier to apply weight decay effectively\n",
    "\n",
    "3. **Avoid the Vanishing/Exploding gradient problem:** When error gradients become either too small or too large during training, they lead to extremely small or large updates to the model's weights. As a result, the model becomes unstable and struggles to learn from the training data. Normalization helps maintain stable gradients, ensuring the model can learn effectively.a."
   ]
  },
  {
   "cell_type": "code",
   "execution_count": 520,
   "id": "638c8678-d045-4395-b331-889b22c719e0",
   "metadata": {},
   "outputs": [],
   "source": [
    "# Transforming Dataset to a Single-Channel Input\n",
    "X_train = X_train.reshape((X_train.shape[0], 28, 28, 1))\n",
    "X_test = X_test.reshape((X_test.shape[0], 28, 28, 1))"
   ]
  },
  {
   "cell_type": "code",
   "execution_count": 522,
   "id": "a4a83412-acef-4466-aaad-98d517f566fd",
   "metadata": {},
   "outputs": [],
   "source": [
    "# Scaling Image Pixels: Normalizing Values to Range 0-1\n",
    "X_train_normalized = X_train.astype('float32')/255.0\n",
    "X_test_normalized = X_test.astype('float32')/255.0"
   ]
  },
  {
   "cell_type": "markdown",
   "id": "5655672d-efa4-492b-acfe-e3142d015c59",
   "metadata": {},
   "source": [
    "* For a 10-class classification problem, the output layer should have 10 units to provide probabilities for each class.\n",
    "* To train the model effectively, a one-hot encoded representation is created for the target classes. This means converting the class labels into a binary vector where only the position corresponding to the correct class is set to 1, and all other positions are set to 0."
   ]
  },
  {
   "cell_type": "code",
   "execution_count": 525,
   "id": "1e84f61d-bb1d-4ac2-ba24-c7f6e9e883e1",
   "metadata": {},
   "outputs": [],
   "source": [
    "# Creating one-hot encoded representation of target labels\n",
    "y_train_encoded = tf.keras.utils.to_categorical(y_train)\n",
    "y_test_encoded = tf.keras.utils.to_categorical(y_test)"
   ]
  },
  {
   "cell_type": "markdown",
   "id": "4e4a4dc7-2cb8-485c-b5b3-42879b5e4519",
   "metadata": {},
   "source": [
    "## **Step 5: Model Building - Artificial Neural Network (ANN)**"
   ]
  },
  {
   "cell_type": "markdown",
   "id": "057688c5-f3ce-4af5-9907-7bd54c88e66c",
   "metadata": {},
   "source": [
    "### Creating the ANN Sequentially:\n",
    "This involves constructing the Artificial Neural Network (ANN) by adding layers one by one in a specific order. Each layer builds on the previous one, forming a clear and systematic sequence. This approach ensures the network’s structure is organized and easy to follow.\n",
    "\n",
    "### Setting the Seed for Random Number Generators:\n",
    "Random number generators are used in neural network training for tasks like weight initialization and data shuffling. Setting a seed for these generators in NumPy, Python’s random module, and TensorFlow ensures that the random processes yield identical results each time the code runs. This is essential for reproducibility, enabling consistent replication of experiments and verification of outcomes.\n",
    "ults."
   ]
  },
  {
   "cell_type": "code",
   "execution_count": 529,
   "id": "5bd99f54-7bbd-43f5-bc52-5458e366dd16",
   "metadata": {},
   "outputs": [],
   "source": [
    "# Fixing the seed for random number generators\n",
    "import random\n",
    "np.random.seed(42)\n",
    "random.seed(42)\n",
    "tf.random.set_seed(42)"
   ]
  },
  {
   "cell_type": "code",
   "execution_count": 531,
   "id": "05ce9f52-9af0-4d45-bc22-2670f6a17954",
   "metadata": {},
   "outputs": [
    {
     "data": {
      "text/html": [
       "<pre style=\"white-space:pre;overflow-x:auto;line-height:normal;font-family:Menlo,'DejaVu Sans Mono',consolas,'Courier New',monospace\"><span style=\"font-weight: bold\">Model: \"sequential_3\"</span>\n",
       "</pre>\n"
      ],
      "text/plain": [
       "\u001b[1mModel: \"sequential_3\"\u001b[0m\n"
      ]
     },
     "metadata": {},
     "output_type": "display_data"
    },
    {
     "data": {
      "text/html": [
       "<pre style=\"white-space:pre;overflow-x:auto;line-height:normal;font-family:Menlo,'DejaVu Sans Mono',consolas,'Courier New',monospace\">┏━━━━━━━━━━━━━━━━━━━━━━━━━━━━━━━━━┳━━━━━━━━━━━━━━━━━━━━━━━━┳━━━━━━━━━━━━━━━┓\n",
       "┃<span style=\"font-weight: bold\"> Layer (type)                    </span>┃<span style=\"font-weight: bold\"> Output Shape           </span>┃<span style=\"font-weight: bold\">       Param # </span>┃\n",
       "┡━━━━━━━━━━━━━━━━━━━━━━━━━━━━━━━━━╇━━━━━━━━━━━━━━━━━━━━━━━━╇━━━━━━━━━━━━━━━┩\n",
       "│ flatten_3 (<span style=\"color: #0087ff; text-decoration-color: #0087ff\">Flatten</span>)             │ (<span style=\"color: #00d7ff; text-decoration-color: #00d7ff\">None</span>, <span style=\"color: #00af00; text-decoration-color: #00af00\">784</span>)            │             <span style=\"color: #00af00; text-decoration-color: #00af00\">0</span> │\n",
       "├─────────────────────────────────┼────────────────────────┼───────────────┤\n",
       "│ dense_6 (<span style=\"color: #0087ff; text-decoration-color: #0087ff\">Dense</span>)                 │ (<span style=\"color: #00d7ff; text-decoration-color: #00d7ff\">None</span>, <span style=\"color: #00af00; text-decoration-color: #00af00\">100</span>)            │        <span style=\"color: #00af00; text-decoration-color: #00af00\">78,500</span> │\n",
       "├─────────────────────────────────┼────────────────────────┼───────────────┤\n",
       "│ dense_7 (<span style=\"color: #0087ff; text-decoration-color: #0087ff\">Dense</span>)                 │ (<span style=\"color: #00d7ff; text-decoration-color: #00d7ff\">None</span>, <span style=\"color: #00af00; text-decoration-color: #00af00\">10</span>)             │         <span style=\"color: #00af00; text-decoration-color: #00af00\">1,010</span> │\n",
       "└─────────────────────────────────┴────────────────────────┴───────────────┘\n",
       "</pre>\n"
      ],
      "text/plain": [
       "┏━━━━━━━━━━━━━━━━━━━━━━━━━━━━━━━━━┳━━━━━━━━━━━━━━━━━━━━━━━━┳━━━━━━━━━━━━━━━┓\n",
       "┃\u001b[1m \u001b[0m\u001b[1mLayer (type)                   \u001b[0m\u001b[1m \u001b[0m┃\u001b[1m \u001b[0m\u001b[1mOutput Shape          \u001b[0m\u001b[1m \u001b[0m┃\u001b[1m \u001b[0m\u001b[1m      Param #\u001b[0m\u001b[1m \u001b[0m┃\n",
       "┡━━━━━━━━━━━━━━━━━━━━━━━━━━━━━━━━━╇━━━━━━━━━━━━━━━━━━━━━━━━╇━━━━━━━━━━━━━━━┩\n",
       "│ flatten_3 (\u001b[38;5;33mFlatten\u001b[0m)             │ (\u001b[38;5;45mNone\u001b[0m, \u001b[38;5;34m784\u001b[0m)            │             \u001b[38;5;34m0\u001b[0m │\n",
       "├─────────────────────────────────┼────────────────────────┼───────────────┤\n",
       "│ dense_6 (\u001b[38;5;33mDense\u001b[0m)                 │ (\u001b[38;5;45mNone\u001b[0m, \u001b[38;5;34m100\u001b[0m)            │        \u001b[38;5;34m78,500\u001b[0m │\n",
       "├─────────────────────────────────┼────────────────────────┼───────────────┤\n",
       "│ dense_7 (\u001b[38;5;33mDense\u001b[0m)                 │ (\u001b[38;5;45mNone\u001b[0m, \u001b[38;5;34m10\u001b[0m)             │         \u001b[38;5;34m1,010\u001b[0m │\n",
       "└─────────────────────────────────┴────────────────────────┴───────────────┘\n"
      ]
     },
     "metadata": {},
     "output_type": "display_data"
    },
    {
     "data": {
      "text/html": [
       "<pre style=\"white-space:pre;overflow-x:auto;line-height:normal;font-family:Menlo,'DejaVu Sans Mono',consolas,'Courier New',monospace\"><span style=\"font-weight: bold\"> Total params: </span><span style=\"color: #00af00; text-decoration-color: #00af00\">79,510</span> (310.59 KB)\n",
       "</pre>\n"
      ],
      "text/plain": [
       "\u001b[1m Total params: \u001b[0m\u001b[38;5;34m79,510\u001b[0m (310.59 KB)\n"
      ]
     },
     "metadata": {},
     "output_type": "display_data"
    },
    {
     "data": {
      "text/html": [
       "<pre style=\"white-space:pre;overflow-x:auto;line-height:normal;font-family:Menlo,'DejaVu Sans Mono',consolas,'Courier New',monospace\"><span style=\"font-weight: bold\"> Trainable params: </span><span style=\"color: #00af00; text-decoration-color: #00af00\">79,510</span> (310.59 KB)\n",
       "</pre>\n"
      ],
      "text/plain": [
       "\u001b[1m Trainable params: \u001b[0m\u001b[38;5;34m79,510\u001b[0m (310.59 KB)\n"
      ]
     },
     "metadata": {},
     "output_type": "display_data"
    },
    {
     "data": {
      "text/html": [
       "<pre style=\"white-space:pre;overflow-x:auto;line-height:normal;font-family:Menlo,'DejaVu Sans Mono',consolas,'Courier New',monospace\"><span style=\"font-weight: bold\"> Non-trainable params: </span><span style=\"color: #00af00; text-decoration-color: #00af00\">0</span> (0.00 B)\n",
       "</pre>\n"
      ],
      "text/plain": [
       "\u001b[1m Non-trainable params: \u001b[0m\u001b[38;5;34m0\u001b[0m (0.00 B)\n"
      ]
     },
     "metadata": {},
     "output_type": "display_data"
    }
   ],
   "source": [
    "# Intializing a sequential model\n",
    "ann_model = Sequential()\n",
    "\n",
    "# Flatten the input to add dense convolutional layers on top of it\n",
    "ann_model.add(Flatten(input_shape=(28, 28)))\n",
    "\n",
    "# Adding a sequential layer with 100 neurons\n",
    "ann_model.add(Dense(100, activation='relu'))\n",
    "\n",
    "# Adding the output layer with 10 neurons and activation functions as softmax since this is a multi-class classification problem  \n",
    "ann_model.add(Dense(10, activation='softmax'))\n",
    "\n",
    "# Using SGD Optimizer\n",
    "opt = SGD(learning_rate=0.01, momentum=0.9)\n",
    "\n",
    "# Compile model\n",
    "ann_model.compile(optimizer=opt,\n",
    "              loss='categorical_crossentropy',\n",
    "              metrics=['accuracy'])\n",
    "\n",
    "# Generating the summary of the model\n",
    "ann_model.summary()"
   ]
  },
  {
   "cell_type": "markdown",
   "id": "0234737e-7ff1-4dc9-bdb6-965fa0a3ddcc",
   "metadata": {},
   "source": [
    "*  **Flatten Layer** <br>\n",
    "The Flatten Layer takes a 2D input of shape (28, 28) and turns it into a 1D array of 784 elements (28 × 28). It has 0 parameters because it only reshapes the data, with no trainable weights or biases.\n",
    "\n",
    "*   **Fully Connected Dense Layer**<br>\n",
    "The formula `number of neurons in current layer` × `number of neurons in the previous layer` + 1 × `number of neurons in current layer (Bias)`  accounts for weights (input-to-neuron connections) plus biases for each neuron.<br><br>\n",
    "`Parameters`:<br>\n",
    "Weights: `784 inputs × 100 neurons` = `78,400` <br>\n",
    "Biases: `1 bias per neuron × 100 neurons` = `100` <br>\n",
    "Total: `78,400 + 100` = `78,500`\n",
    "\n",
    "*   **Output Layer**<br>\n",
    "The Output Layer is a fully connected dense layer with 10 neurons, typically used for classification (e.g., 10 classes in MNIST). It takes input from the previous layer with 100 neurons.\n",
    "The formula `Number of neurons in current layer` x `number of neurons in the previous layer` (Here in the previous dense layer: 100) + 1 x `number of neurons in current layer (Bias)` calculates the weights (connections from 100 to 10) plus biases for the 10 neurons."
   ]
  },
  {
   "cell_type": "markdown",
   "id": "667be924-ae65-47b9-9d0e-a4e390d42f53",
   "metadata": {},
   "source": [
    "### Fitting the model on the train data:"
   ]
  },
  {
   "cell_type": "code",
   "execution_count": 535,
   "id": "e59f10e5-dafd-4714-974b-ca67e662c783",
   "metadata": {},
   "outputs": [
    {
     "name": "stdout",
     "output_type": "stream",
     "text": [
      "Epoch 1/15\n",
      "844/844 - 1s - 1ms/step - accuracy: 0.8861 - loss: 0.4072 - val_accuracy: 0.9443 - val_loss: 0.2011\n",
      "Epoch 2/15\n",
      "844/844 - 1s - 924us/step - accuracy: 0.9388 - loss: 0.2151 - val_accuracy: 0.9593 - val_loss: 0.1457\n",
      "Epoch 3/15\n",
      "844/844 - 1s - 912us/step - accuracy: 0.9535 - loss: 0.1631 - val_accuracy: 0.9653 - val_loss: 0.1208\n",
      "Epoch 4/15\n",
      "844/844 - 1s - 936us/step - accuracy: 0.9630 - loss: 0.1332 - val_accuracy: 0.9690 - val_loss: 0.1066\n",
      "Epoch 5/15\n",
      "844/844 - 1s - 993us/step - accuracy: 0.9683 - loss: 0.1133 - val_accuracy: 0.9710 - val_loss: 0.0973\n",
      "Epoch 6/15\n",
      "844/844 - 1s - 1ms/step - accuracy: 0.9724 - loss: 0.0988 - val_accuracy: 0.9738 - val_loss: 0.0912\n",
      "Epoch 7/15\n",
      "844/844 - 1s - 1ms/step - accuracy: 0.9753 - loss: 0.0873 - val_accuracy: 0.9747 - val_loss: 0.0864\n",
      "Epoch 8/15\n",
      "844/844 - 1s - 1ms/step - accuracy: 0.9779 - loss: 0.0782 - val_accuracy: 0.9755 - val_loss: 0.0831\n",
      "Epoch 9/15\n",
      "844/844 - 1s - 1ms/step - accuracy: 0.9806 - loss: 0.0706 - val_accuracy: 0.9763 - val_loss: 0.0804\n",
      "Epoch 10/15\n",
      "844/844 - 1s - 1ms/step - accuracy: 0.9825 - loss: 0.0641 - val_accuracy: 0.9773 - val_loss: 0.0786\n",
      "Epoch 11/15\n",
      "844/844 - 1s - 1ms/step - accuracy: 0.9841 - loss: 0.0586 - val_accuracy: 0.9772 - val_loss: 0.0767\n",
      "Epoch 12/15\n",
      "844/844 - 1s - 2ms/step - accuracy: 0.9855 - loss: 0.0536 - val_accuracy: 0.9782 - val_loss: 0.0756\n",
      "Epoch 13/15\n",
      "844/844 - 1s - 2ms/step - accuracy: 0.9869 - loss: 0.0492 - val_accuracy: 0.9782 - val_loss: 0.0746\n",
      "Epoch 14/15\n",
      "844/844 - 1s - 1ms/step - accuracy: 0.9881 - loss: 0.0453 - val_accuracy: 0.9782 - val_loss: 0.0741\n",
      "Epoch 15/15\n",
      "844/844 - 1s - 2ms/step - accuracy: 0.9895 - loss: 0.0418 - val_accuracy: 0.9780 - val_loss: 0.0739\n"
     ]
    }
   ],
   "source": [
    "history = ann_model.fit(\n",
    "            X_train_normalized, y_train_encoded,\n",
    "            epochs=15,\n",
    "            validation_split=0.1,\n",
    "            shuffle=True,\n",
    "            batch_size=64,\n",
    "            verbose=2\n",
    ")"
   ]
  },
  {
   "cell_type": "markdown",
   "id": "855551a2-b786-44b7-95ee-88734c8dd0c1",
   "metadata": {},
   "source": [
    "### Model evaluation:"
   ]
  },
  {
   "cell_type": "code",
   "execution_count": 537,
   "id": "178beff6-54ff-4e1e-8a6e-876b89bf6bb2",
   "metadata": {},
   "outputs": [
    {
     "data": {
      "image/png": "[encoded data removed]",
      "text/plain": [
       "<Figure size 640x480 with 1 Axes>"
      ]
     },
     "metadata": {},
     "output_type": "display_data"
    }
   ],
   "source": [
    "plt.plot(history.history['accuracy'])\n",
    "plt.plot(history.history['val_accuracy'])\n",
    "plt.title('Model Accuracy')\n",
    "plt.ylabel('Accuracy')\n",
    "plt.xlabel('Epoch')\n",
    "plt.legend(['Train', 'Validation'], loc='upper left')\n",
    "plt.show()"
   ]
  },
  {
   "cell_type": "markdown",
   "id": "b50710c0-b06c-4627-bcb6-a95a1edd767a",
   "metadata": {},
   "source": [
    "### Observations:\n",
    "The graph shows the Model Accuracy over 14 epochs for both Train (blue line) and Validation (orange line) data. The model performs well, with:\n",
    "\n",
    "* Training accuracy rising steadily to nearly 0.99 (99%), indicating the model learns the training data effectively.<br>\n",
    "* Validation accuracy stabilizing around 0.97 (97%), showing the model generalizes well to unseen data. <br>\n",
    "* Both lines are close and trend upward without significant divergence, suggesting no overfitting. The ~97% validation accuracy confirms strong performance on new data."
   ]
  },
  {
   "cell_type": "markdown",
   "id": "a7319a49-7de0-42be-9fee-23616a6f51b4",
   "metadata": {},
   "source": [
    "### Evaluating the model on the test data:"
   ]
  },
  {
   "cell_type": "code",
   "execution_count": 539,
   "id": "cdb78692-38c2-4029-9105-32a5bff42f38",
   "metadata": {},
   "outputs": [
    {
     "name": "stdout",
     "output_type": "stream",
     "text": [
      "313/313 - 0s - 778us/step - accuracy: 0.9760 - loss: 0.0797\n"
     ]
    }
   ],
   "source": [
    "accuracy = ann_model.evaluate(X_test_normalized, y_test_encoded, verbose=2)"
   ]
  },
  {
   "cell_type": "markdown",
   "id": "f800284b-974e-4594-8603-2c833600705b",
   "metadata": {},
   "source": [
    "### Observations:\n",
    "* The test dataset was split into 313 batches.\n",
    "* The loss value (e.g., cross-entropy) is 0.0804, indicating low error, with lower values suggesting better performance.\n",
    "* This confirms the model generalizes well, with test accuracy close to the validation accuracy (~97%)."
   ]
  },
  {
   "cell_type": "markdown",
   "id": "77030e0d-bcd1-47a9-8bad-fe193816e05d",
   "metadata": {},
   "source": [
    "### Generating the Predictions using the test data:"
   ]
  },
  {
   "cell_type": "code",
   "execution_count": 541,
   "id": "eead3e2c-f2e8-4e54-a7de-da39e278b443",
   "metadata": {},
   "outputs": [
    {
     "name": "stdout",
     "output_type": "stream",
     "text": [
      "\u001b[1m313/313\u001b[0m \u001b[32m━━━━━━━━━━━━━━━━━━━━\u001b[0m\u001b[37m\u001b[0m \u001b[1m0s\u001b[0m 1ms/step\n"
     ]
    }
   ],
   "source": [
    "# Here we would get the output as probablities for each category\n",
    "y_pred=ann_model.predict(X_test_normalized)"
   ]
  },
  {
   "cell_type": "markdown",
   "id": "14fd76e8-b744-4bbf-a501-61126710cc11",
   "metadata": {},
   "source": [
    "### Plotting the Confusion Matrix:"
   ]
  },
  {
   "cell_type": "markdown",
   "id": "9f7a86a9-7edf-4a15-b6b4-dc0b732bbe47",
   "metadata": {},
   "source": [
    "* A Confusion Matrix evaluates a classification model's performance by comparing predicted labels to true labels.\n",
    "* TensorFlow provides a built-in function, `tf.math.confusion_matrix`, for this evaluation.\n",
    "* However, the Confusion Matrix requires categorical values as input, while `y_test_encoded` is one-hot encoded and `y_pred` contains probabilities. To convert them back to categorical values, `argmax()` function will be used, which identifies the class with the highest value (or probability) for each sample in both `y_test_encoded` and `y_pred`, providing the respective class labels for evaluation."
   ]
  },
  {
   "cell_type": "code",
   "execution_count": 543,
   "id": "591b4437-e4ee-43b9-8911-de2da2921839",
   "metadata": {},
   "outputs": [
    {
     "data": {
      "image/png": "[encoded data removed]",
      "text/plain": [
       "<Figure size 800x600 with 2 Axes>"
      ]
     },
     "metadata": {},
     "output_type": "display_data"
    }
   ],
   "source": [
    "# Obtaining the categorical values from y_test_encoded and y_pred\n",
    "y_pred_arg=np.argmax(y_pred,axis=1)\n",
    "y_test_arg=np.argmax(y_test_encoded,axis=1)\n",
    "\n",
    "# Plotting the Confusion Matrix using confusion matrix() function which is also predefined tensorflow module\n",
    "confusion_matrix = tf.math.confusion_matrix(y_test_arg,y_pred_arg)\n",
    "f, ax = plt.subplots(figsize=(8, 6))\n",
    "sns.heatmap(\n",
    "    confusion_matrix,\n",
    "    annot=True,\n",
    "    linewidths=.4,\n",
    "    fmt=\"d\",\n",
    "    square=True,\n",
    "    ax=ax\n",
    ")\n",
    "plt.show()"
   ]
  },
  {
   "cell_type": "markdown",
   "id": "1c946463-de41-43f1-8295-655c7c301e3c",
   "metadata": {},
   "source": [
    "### Observations:\n",
    "\n",
    "| True\\Pred | 0   | 1    | 2    | 3   | 4   | 5   | 6   | 7    | 8   | 9   |\n",
    "|-----------|-----|------|------|-----|-----|-----|-----|------|-----|-----|\n",
    "| **0**     | 969 | 0    | 0    | 1   | 1   | 2   | 3   | 1    | 3   | 0   |\n",
    "| **1**     | 0   | 1121 | 5    | 0   | 0   | 1   | 2   | 2    | 4   | 0   |\n",
    "| **2**     | 3   | 0    | 1007 | 4   | 0   | 4   | 7   | 6    | 0   | 1   |\n",
    "| **3**     | 0   | 0    | 7    | 988 | 0   | 2   | 0   | 6    | 4   | 3   |\n",
    "| **4**     | 2   | 0    | 5    | 0   | 956 | 0   | 3   | 3    | 1   | 12  |\n",
    "| **5**     | 3   | 0    | 0    | 5   | 0   | 866 | 11  | 2    | 2   | 3   |\n",
    "| **6**     | 5   | 3    | 1    | 1   | 4   | 2   | 939 | 0    | 3   | 0   |\n",
    "| **7**     | 0   | 3    | 7    | 1   | 0   | 0   | 0   | 1013 | 1   | 3   |\n",
    "| **8**     | 4   | 0    | 5    | 5   | 1   | 3   | 3   | 8    | 944 | 1   |\n",
    "| **9**     | 4   | 5    | 0    | 7   | 7   | 1   | 0   | 8    | 2   | 975 |\n",
    "\n",
    "**High Accuracy:** <br>\n",
    "Diagonal values (e.g., 969 for class 0, 1121 for class 1, 1013 for class 7) are large, indicating most predictions are correct. The model performs well overall.<br>\n",
    "\n",
    "**Common Errors:** <br>\n",
    "* Class 5 misclassified as class 3 and class 6.\n",
    "* Class 9 misclassified as class 4.\n",
    "* Class 8 misclassified as class 3.<br>\n",
    "\n",
    "**Overall Performance:** <br>\n",
    "The model is strong, with minor confusion between certain classes (e.g., 5 and 3, 9 and 4), which may share visual similarities (like 5 and 3 in digit shapes). The test accuracy of 97.65% aligns with these results."
   ]
  },
  {
   "cell_type": "markdown",
   "id": "76a400a8-a60c-4499-9ca5-ac4b916a456c",
   "metadata": {},
   "source": [
    "## **Step 6: Model Building - Convolutional Neural Network (CNN)**"
   ]
  },
  {
   "cell_type": "markdown",
   "id": "59915336-3ec3-4093-acb6-aeb8a68944c2",
   "metadata": {},
   "source": [
    "**Clear Previous Model History:** <br>\n",
    "In Keras, it’s essential to clear the previous model's history from the session to avoid retaining backend data from prior runs.\n",
    "\n",
    "**Reset Seed for Reproducibility:** <br>\n",
    "After clearing the backend, re-establish the seed for random number generators in NumPy, Python's random library, and TensorFlow to ensure consistent and reproducible results across code executions."
   ]
  },
  {
   "cell_type": "code",
   "execution_count": 545,
   "id": "c688af5f-21f3-4c60-a2ad-278600ef5db0",
   "metadata": {},
   "outputs": [],
   "source": [
    "# Clearing backend\n",
    "from tensorflow.keras import backend\n",
    "backend.clear_session()"
   ]
  },
  {
   "cell_type": "code",
   "execution_count": 547,
   "id": "a671fb52-e29b-4ac8-bf81-82a5f628c759",
   "metadata": {},
   "outputs": [],
   "source": [
    "# Fixing the seed for random number generators\n",
    "import random\n",
    "np.random.seed(42)\n",
    "random.seed(42)\n",
    "tf.random.set_seed(42)"
   ]
  },
  {
   "cell_type": "markdown",
   "id": "e27d998e-9b2b-4e2f-b3b8-7740963b8de0",
   "metadata": {},
   "source": [
    "### Building a CNN Model:\n",
    "The model has 2 main parts:\n",
    "1. ***The Feature Extraction layers*** which are comprised of convolutional and pooling layers.\n",
    "2. ***The Fully Connected classification layers*** for prediction.\n",
    "\n",
    "### The flow is shown as below:\n",
    "* A sequential model is to be initiated with a `Conv2D` layer featuring 64 filters, a 3x3 kernel size, `ReLU` activation, an input shape of (28, 28, 1) for a 28x28 grayscale image, and padding (`padding='same'`) to ensure the output shape remains (28x28), followed by a `MaxPooling` layer with a pool size of (2, 2).\n",
    "* Two additional pairs of `Conv2D` and `MaxPooling` layers are to be incorporated, each `Conv2D` layer being configured with 32 filters, a 3x3 kernel size, `ReLU` activation, and `padding='same'`, and each `MaxPooling` layer having a pool size of (2, 2).\n",
    "* The output from the final pooling layer is to be flattened to transition to dense layers, after which a `Dense` layer with 100 neurons (aligned with the ANN) and `ReLU` activation is to be added, followed by an output `Dense` layer with 10 neurons (corresponding to 10 output classes in this multi-class classification problem) and `Softmax` activation."
   ]
  },
  {
   "cell_type": "code",
   "execution_count": 549,
   "id": "bd6eb5e4-7319-4483-afb6-7a4919b4184d",
   "metadata": {},
   "outputs": [
    {
     "data": {
      "text/html": [
       "<pre style=\"white-space:pre;overflow-x:auto;line-height:normal;font-family:Menlo,'DejaVu Sans Mono',consolas,'Courier New',monospace\"><span style=\"font-weight: bold\">Model: \"sequential\"</span>\n",
       "</pre>\n"
      ],
      "text/plain": [
       "\u001b[1mModel: \"sequential\"\u001b[0m\n"
      ]
     },
     "metadata": {},
     "output_type": "display_data"
    },
    {
     "data": {
      "text/html": [
       "<pre style=\"white-space:pre;overflow-x:auto;line-height:normal;font-family:Menlo,'DejaVu Sans Mono',consolas,'Courier New',monospace\">┏━━━━━━━━━━━━━━━━━━━━━━━━━━━━━━━━━┳━━━━━━━━━━━━━━━━━━━━━━━━┳━━━━━━━━━━━━━━━┓\n",
       "┃<span style=\"font-weight: bold\"> Layer (type)                    </span>┃<span style=\"font-weight: bold\"> Output Shape           </span>┃<span style=\"font-weight: bold\">       Param # </span>┃\n",
       "┡━━━━━━━━━━━━━━━━━━━━━━━━━━━━━━━━━╇━━━━━━━━━━━━━━━━━━━━━━━━╇━━━━━━━━━━━━━━━┩\n",
       "│ conv2d (<span style=\"color: #0087ff; text-decoration-color: #0087ff\">Conv2D</span>)                 │ (<span style=\"color: #00d7ff; text-decoration-color: #00d7ff\">None</span>, <span style=\"color: #00af00; text-decoration-color: #00af00\">28</span>, <span style=\"color: #00af00; text-decoration-color: #00af00\">28</span>, <span style=\"color: #00af00; text-decoration-color: #00af00\">64</span>)     │           <span style=\"color: #00af00; text-decoration-color: #00af00\">640</span> │\n",
       "├─────────────────────────────────┼────────────────────────┼───────────────┤\n",
       "│ max_pooling2d (<span style=\"color: #0087ff; text-decoration-color: #0087ff\">MaxPooling2D</span>)    │ (<span style=\"color: #00d7ff; text-decoration-color: #00d7ff\">None</span>, <span style=\"color: #00af00; text-decoration-color: #00af00\">14</span>, <span style=\"color: #00af00; text-decoration-color: #00af00\">14</span>, <span style=\"color: #00af00; text-decoration-color: #00af00\">64</span>)     │             <span style=\"color: #00af00; text-decoration-color: #00af00\">0</span> │\n",
       "├─────────────────────────────────┼────────────────────────┼───────────────┤\n",
       "│ conv2d_1 (<span style=\"color: #0087ff; text-decoration-color: #0087ff\">Conv2D</span>)               │ (<span style=\"color: #00d7ff; text-decoration-color: #00d7ff\">None</span>, <span style=\"color: #00af00; text-decoration-color: #00af00\">14</span>, <span style=\"color: #00af00; text-decoration-color: #00af00\">14</span>, <span style=\"color: #00af00; text-decoration-color: #00af00\">32</span>)     │        <span style=\"color: #00af00; text-decoration-color: #00af00\">18,464</span> │\n",
       "├─────────────────────────────────┼────────────────────────┼───────────────┤\n",
       "│ max_pooling2d_1 (<span style=\"color: #0087ff; text-decoration-color: #0087ff\">MaxPooling2D</span>)  │ (<span style=\"color: #00d7ff; text-decoration-color: #00d7ff\">None</span>, <span style=\"color: #00af00; text-decoration-color: #00af00\">7</span>, <span style=\"color: #00af00; text-decoration-color: #00af00\">7</span>, <span style=\"color: #00af00; text-decoration-color: #00af00\">32</span>)       │             <span style=\"color: #00af00; text-decoration-color: #00af00\">0</span> │\n",
       "├─────────────────────────────────┼────────────────────────┼───────────────┤\n",
       "│ conv2d_2 (<span style=\"color: #0087ff; text-decoration-color: #0087ff\">Conv2D</span>)               │ (<span style=\"color: #00d7ff; text-decoration-color: #00d7ff\">None</span>, <span style=\"color: #00af00; text-decoration-color: #00af00\">7</span>, <span style=\"color: #00af00; text-decoration-color: #00af00\">7</span>, <span style=\"color: #00af00; text-decoration-color: #00af00\">32</span>)       │         <span style=\"color: #00af00; text-decoration-color: #00af00\">9,248</span> │\n",
       "├─────────────────────────────────┼────────────────────────┼───────────────┤\n",
       "│ max_pooling2d_2 (<span style=\"color: #0087ff; text-decoration-color: #0087ff\">MaxPooling2D</span>)  │ (<span style=\"color: #00d7ff; text-decoration-color: #00d7ff\">None</span>, <span style=\"color: #00af00; text-decoration-color: #00af00\">4</span>, <span style=\"color: #00af00; text-decoration-color: #00af00\">4</span>, <span style=\"color: #00af00; text-decoration-color: #00af00\">32</span>)       │             <span style=\"color: #00af00; text-decoration-color: #00af00\">0</span> │\n",
       "├─────────────────────────────────┼────────────────────────┼───────────────┤\n",
       "│ flatten (<span style=\"color: #0087ff; text-decoration-color: #0087ff\">Flatten</span>)               │ (<span style=\"color: #00d7ff; text-decoration-color: #00d7ff\">None</span>, <span style=\"color: #00af00; text-decoration-color: #00af00\">512</span>)            │             <span style=\"color: #00af00; text-decoration-color: #00af00\">0</span> │\n",
       "├─────────────────────────────────┼────────────────────────┼───────────────┤\n",
       "│ dense (<span style=\"color: #0087ff; text-decoration-color: #0087ff\">Dense</span>)                   │ (<span style=\"color: #00d7ff; text-decoration-color: #00d7ff\">None</span>, <span style=\"color: #00af00; text-decoration-color: #00af00\">100</span>)            │        <span style=\"color: #00af00; text-decoration-color: #00af00\">51,300</span> │\n",
       "├─────────────────────────────────┼────────────────────────┼───────────────┤\n",
       "│ dense_1 (<span style=\"color: #0087ff; text-decoration-color: #0087ff\">Dense</span>)                 │ (<span style=\"color: #00d7ff; text-decoration-color: #00d7ff\">None</span>, <span style=\"color: #00af00; text-decoration-color: #00af00\">10</span>)             │         <span style=\"color: #00af00; text-decoration-color: #00af00\">1,010</span> │\n",
       "└─────────────────────────────────┴────────────────────────┴───────────────┘\n",
       "</pre>\n"
      ],
      "text/plain": [
       "┏━━━━━━━━━━━━━━━━━━━━━━━━━━━━━━━━━┳━━━━━━━━━━━━━━━━━━━━━━━━┳━━━━━━━━━━━━━━━┓\n",
       "┃\u001b[1m \u001b[0m\u001b[1mLayer (type)                   \u001b[0m\u001b[1m \u001b[0m┃\u001b[1m \u001b[0m\u001b[1mOutput Shape          \u001b[0m\u001b[1m \u001b[0m┃\u001b[1m \u001b[0m\u001b[1m      Param #\u001b[0m\u001b[1m \u001b[0m┃\n",
       "┡━━━━━━━━━━━━━━━━━━━━━━━━━━━━━━━━━╇━━━━━━━━━━━━━━━━━━━━━━━━╇━━━━━━━━━━━━━━━┩\n",
       "│ conv2d (\u001b[38;5;33mConv2D\u001b[0m)                 │ (\u001b[38;5;45mNone\u001b[0m, \u001b[38;5;34m28\u001b[0m, \u001b[38;5;34m28\u001b[0m, \u001b[38;5;34m64\u001b[0m)     │           \u001b[38;5;34m640\u001b[0m │\n",
       "├─────────────────────────────────┼────────────────────────┼───────────────┤\n",
       "│ max_pooling2d (\u001b[38;5;33mMaxPooling2D\u001b[0m)    │ (\u001b[38;5;45mNone\u001b[0m, \u001b[38;5;34m14\u001b[0m, \u001b[38;5;34m14\u001b[0m, \u001b[38;5;34m64\u001b[0m)     │             \u001b[38;5;34m0\u001b[0m │\n",
       "├─────────────────────────────────┼────────────────────────┼───────────────┤\n",
       "│ conv2d_1 (\u001b[38;5;33mConv2D\u001b[0m)               │ (\u001b[38;5;45mNone\u001b[0m, \u001b[38;5;34m14\u001b[0m, \u001b[38;5;34m14\u001b[0m, \u001b[38;5;34m32\u001b[0m)     │        \u001b[38;5;34m18,464\u001b[0m │\n",
       "├─────────────────────────────────┼────────────────────────┼───────────────┤\n",
       "│ max_pooling2d_1 (\u001b[38;5;33mMaxPooling2D\u001b[0m)  │ (\u001b[38;5;45mNone\u001b[0m, \u001b[38;5;34m7\u001b[0m, \u001b[38;5;34m7\u001b[0m, \u001b[38;5;34m32\u001b[0m)       │             \u001b[38;5;34m0\u001b[0m │\n",
       "├─────────────────────────────────┼────────────────────────┼───────────────┤\n",
       "│ conv2d_2 (\u001b[38;5;33mConv2D\u001b[0m)               │ (\u001b[38;5;45mNone\u001b[0m, \u001b[38;5;34m7\u001b[0m, \u001b[38;5;34m7\u001b[0m, \u001b[38;5;34m32\u001b[0m)       │         \u001b[38;5;34m9,248\u001b[0m │\n",
       "├─────────────────────────────────┼────────────────────────┼───────────────┤\n",
       "│ max_pooling2d_2 (\u001b[38;5;33mMaxPooling2D\u001b[0m)  │ (\u001b[38;5;45mNone\u001b[0m, \u001b[38;5;34m4\u001b[0m, \u001b[38;5;34m4\u001b[0m, \u001b[38;5;34m32\u001b[0m)       │             \u001b[38;5;34m0\u001b[0m │\n",
       "├─────────────────────────────────┼────────────────────────┼───────────────┤\n",
       "│ flatten (\u001b[38;5;33mFlatten\u001b[0m)               │ (\u001b[38;5;45mNone\u001b[0m, \u001b[38;5;34m512\u001b[0m)            │             \u001b[38;5;34m0\u001b[0m │\n",
       "├─────────────────────────────────┼────────────────────────┼───────────────┤\n",
       "│ dense (\u001b[38;5;33mDense\u001b[0m)                   │ (\u001b[38;5;45mNone\u001b[0m, \u001b[38;5;34m100\u001b[0m)            │        \u001b[38;5;34m51,300\u001b[0m │\n",
       "├─────────────────────────────────┼────────────────────────┼───────────────┤\n",
       "│ dense_1 (\u001b[38;5;33mDense\u001b[0m)                 │ (\u001b[38;5;45mNone\u001b[0m, \u001b[38;5;34m10\u001b[0m)             │         \u001b[38;5;34m1,010\u001b[0m │\n",
       "└─────────────────────────────────┴────────────────────────┴───────────────┘\n"
      ]
     },
     "metadata": {},
     "output_type": "display_data"
    },
    {
     "data": {
      "text/html": [
       "<pre style=\"white-space:pre;overflow-x:auto;line-height:normal;font-family:Menlo,'DejaVu Sans Mono',consolas,'Courier New',monospace\"><span style=\"font-weight: bold\"> Total params: </span><span style=\"color: #00af00; text-decoration-color: #00af00\">80,662</span> (315.09 KB)\n",
       "</pre>\n"
      ],
      "text/plain": [
       "\u001b[1m Total params: \u001b[0m\u001b[38;5;34m80,662\u001b[0m (315.09 KB)\n"
      ]
     },
     "metadata": {},
     "output_type": "display_data"
    },
    {
     "data": {
      "text/html": [
       "<pre style=\"white-space:pre;overflow-x:auto;line-height:normal;font-family:Menlo,'DejaVu Sans Mono',consolas,'Courier New',monospace\"><span style=\"font-weight: bold\"> Trainable params: </span><span style=\"color: #00af00; text-decoration-color: #00af00\">80,662</span> (315.09 KB)\n",
       "</pre>\n"
      ],
      "text/plain": [
       "\u001b[1m Trainable params: \u001b[0m\u001b[38;5;34m80,662\u001b[0m (315.09 KB)\n"
      ]
     },
     "metadata": {},
     "output_type": "display_data"
    },
    {
     "data": {
      "text/html": [
       "<pre style=\"white-space:pre;overflow-x:auto;line-height:normal;font-family:Menlo,'DejaVu Sans Mono',consolas,'Courier New',monospace\"><span style=\"font-weight: bold\"> Non-trainable params: </span><span style=\"color: #00af00; text-decoration-color: #00af00\">0</span> (0.00 B)\n",
       "</pre>\n"
      ],
      "text/plain": [
       "\u001b[1m Non-trainable params: \u001b[0m\u001b[38;5;34m0\u001b[0m (0.00 B)\n"
      ]
     },
     "metadata": {},
     "output_type": "display_data"
    }
   ],
   "source": [
    "# Intializing a sequential model\n",
    "model = Sequential()\n",
    "\n",
    "# Adding first conv layer with 64 filters and kernel size 3x3 , padding 'same' provides the output size same as the input size\n",
    "# Input_shape denotes input image dimension of MNIST images\n",
    "model.add(Conv2D(64, (3, 3), activation='relu', padding=\"same\", input_shape=(28, 28, 1)))\n",
    "\n",
    "# Adding max pooling to reduce the size of output of first conv layer\n",
    "model.add(MaxPooling2D((2, 2), padding = 'same'))\n",
    "\n",
    "model.add(Conv2D(32, (3, 3), activation='relu', padding=\"same\"))\n",
    "model.add(MaxPooling2D((2, 2), padding = 'same'))\n",
    "model.add(Conv2D(32, (3, 3), activation='relu', padding=\"same\"))\n",
    "model.add(MaxPooling2D((2, 2), padding = 'same'))\n",
    "\n",
    "# flattening the output of the conv layer after max pooling to make it ready for creating dense connections\n",
    "model.add(Flatten())\n",
    "\n",
    "# Adding a fully connected dense layer with 100 neurons    \n",
    "model.add(Dense(100, activation='relu'))\n",
    "\n",
    "# Adding the output layer with 10 neurons and activation functions as softmax since this is a multi-class classification problem  \n",
    "model.add(Dense(10, activation='softmax'))\n",
    "\n",
    "# Using SGD Optimizer\n",
    "opt = SGD(learning_rate=0.01, momentum=0.9)\n",
    "\n",
    "# Compile model\n",
    "model.compile(optimizer=opt, loss='categorical_crossentropy', metrics=['accuracy'])\n",
    "\n",
    "# Generating the summary of the model\n",
    "model.summary()"
   ]
  },
  {
   "cell_type": "markdown",
   "id": "032dfe8e-d576-422d-85a6-7fcbcd2dd215",
   "metadata": {},
   "source": [
    "## Interpretation:\r\n",
    "\r\n",
    "**First Conv2D Layer**:\r\n",
    "- **Input Shape**: (28, 28, 1) – This represents a 28x28 pixel grayscale image with 1 channel, indicating a single-depth image (e.g., black and white), laying the foundation for feature extraction.\r\n",
    "- **Filter Size**: 3x3 – A small 3x3 filter is applied to scan the image, capturing local patterns such as edges or textures, which are essential for recognizing digit shapes.\r\n",
    "- **Number of Filters**: 64 – This generates 64 feature maps, enabling the model to learn a diverse set of initial features from the input, enhancing its capability to detect various image characteristics.\r\n",
    "- **Number of Parameters**: (3x3x1 + 1) x 64 = 640 – Interpreted as (filter width x height x input channels + bias) x number of filters, these 640 parameters represent the weights and biases the model adjusts to detect initial features, reflecting a modest yet effective learning capacity for the first layer.\r\n",
    "\r\n",
    "**Max Pooling Layer**:\r\n",
    "- **Number of Parameters**: 0 – This layer downsamples the feature maps (e.g., from 28x28 to 14x14) by selecting the maximum value in each 2x2 patch, with no trainable parameters, meaning it reduces spatial dimensions without adding complexity, emphasizing the most prominent features.\r\n",
    "\r\n",
    "**Flatten**:\r\n",
    "- **Number of Parameters**: 0 – This layer reshapes the 2D feature maps (e.g., 4x4x32) into a 1D vector (512 elements), with no parameters to train, serving as a bridge to the dense layers by preserving all extracted features in a format suitable for classification.\r\n",
    "\r\n",
    "**Fully Connected Dense Layer**:\r\n",
    "- **Number of Neurons**: 100 – This layer contains 100 neurons, acting as a high-level feature combiner to interpret the flattened data, integrating the learned features into a decision-making framework.\r\n",
    "- **Number of Parameters**: (100 x 512) + (1 x 100) = 51,300 – Interpreted as (neurons x previous layer size + bias per neuron), these 51,300 parameters allow the model to learn complex patterns from the 512 inputs, showcasing significant learning flexibility and forming the core of the classification process.\r\n",
    "\r\n",
    "**Output Layer**:\r\n",
    "- **Number of Neurons**: 10 – With 10 neurons, this layer corresponds to the 10 possible classes (e.g., digits 0-9), providing a probability distribution over them, marking the final classification step.\r\n",
    "- **Number of Parameters**: (10 x 100) + (1 x 10) = 1,010 – Interpreted as (neurons x previous layer size + bias per neuron), these 1,010 parameters finalize the classification by mapping the 100 neuron inputs to the 10 classes, indicating a concise and focused decision-making step.\r\n",
    "\r\n",
    "### Interpretation Notes:\r\n",
    "- The parameter distribution underscores a well-designed CNN, with the Dense layer (51,300 parameters) bearing the majority of the learning burden due to its connection to the 512 flattened features.\r\n",
    "- Discrepancies (e.g., 14x14x16 vs. 512, or 128 vs. 100) likely stem from misreported layer sizes; the actual architecture aligns with a 4x4x32 output post-MaxPooling, flattened to 512, and a 100-neuron Dense layer, consistent with the total parameter count of 80,662."
   ]
  },
  {
   "cell_type": "markdown",
   "id": "94a35d0b-263d-4205-8420-d2e691ab1fa8",
   "metadata": {},
   "source": [
    "### Fitting the model on the train data:"
   ]
  },
  {
   "cell_type": "code",
   "execution_count": 551,
   "id": "5435eea4-3c0f-4b08-9347-0b839c188cad",
   "metadata": {},
   "outputs": [
    {
     "name": "stdout",
     "output_type": "stream",
     "text": [
      "Epoch 1/15\n",
      "844/844 - 14s - 16ms/step - accuracy: 0.8897 - loss: 0.3435 - val_accuracy: 0.9772 - val_loss: 0.0747\n",
      "Epoch 2/15\n",
      "844/844 - 16s - 19ms/step - accuracy: 0.9772 - loss: 0.0716 - val_accuracy: 0.9837 - val_loss: 0.0529\n",
      "Epoch 3/15\n",
      "844/844 - 14s - 17ms/step - accuracy: 0.9839 - loss: 0.0498 - val_accuracy: 0.9877 - val_loss: 0.0448\n",
      "Epoch 4/15\n",
      "844/844 - 14s - 16ms/step - accuracy: 0.9876 - loss: 0.0386 - val_accuracy: 0.9858 - val_loss: 0.0459\n",
      "Epoch 5/15\n",
      "844/844 - 14s - 16ms/step - accuracy: 0.9899 - loss: 0.0314 - val_accuracy: 0.9850 - val_loss: 0.0497\n",
      "Epoch 6/15\n",
      "844/844 - 13s - 16ms/step - accuracy: 0.9916 - loss: 0.0260 - val_accuracy: 0.9832 - val_loss: 0.0585\n",
      "Epoch 7/15\n",
      "844/844 - 14s - 17ms/step - accuracy: 0.9933 - loss: 0.0216 - val_accuracy: 0.9777 - val_loss: 0.0729\n",
      "Epoch 8/15\n",
      "844/844 - 14s - 17ms/step - accuracy: 0.9944 - loss: 0.0183 - val_accuracy: 0.9762 - val_loss: 0.0808\n",
      "Epoch 9/15\n",
      "844/844 - 14s - 16ms/step - accuracy: 0.9954 - loss: 0.0156 - val_accuracy: 0.9800 - val_loss: 0.0758\n",
      "Epoch 10/15\n",
      "844/844 - 14s - 17ms/step - accuracy: 0.9956 - loss: 0.0136 - val_accuracy: 0.9825 - val_loss: 0.0699\n",
      "Epoch 11/15\n",
      "844/844 - 15s - 18ms/step - accuracy: 0.9962 - loss: 0.0114 - val_accuracy: 0.9892 - val_loss: 0.0518\n",
      "Epoch 12/15\n",
      "844/844 - 15s - 17ms/step - accuracy: 0.9971 - loss: 0.0095 - val_accuracy: 0.9898 - val_loss: 0.0474\n",
      "Epoch 13/15\n",
      "844/844 - 17s - 20ms/step - accuracy: 0.9974 - loss: 0.0087 - val_accuracy: 0.9882 - val_loss: 0.0513\n",
      "Epoch 14/15\n",
      "844/844 - 15s - 18ms/step - accuracy: 0.9978 - loss: 0.0068 - val_accuracy: 0.9913 - val_loss: 0.0443\n",
      "Epoch 15/15\n",
      "844/844 - 14s - 17ms/step - accuracy: 0.9977 - loss: 0.0072 - val_accuracy: 0.9902 - val_loss: 0.0517\n"
     ]
    }
   ],
   "source": [
    "history_1 = model.fit(\n",
    "            X_train_normalized, y_train_encoded,\n",
    "            epochs=15,\n",
    "            validation_split=0.1,\n",
    "            shuffle=True,\n",
    "            batch_size=64,\n",
    "            verbose=2\n",
    ")"
   ]
  },
  {
   "cell_type": "markdown",
   "id": "2e4018d3-bc89-4a06-a010-b0676cd1ccdc",
   "metadata": {},
   "source": [
    "### Model evaluation:"
   ]
  },
  {
   "cell_type": "code",
   "execution_count": 553,
   "id": "0927a88d-b4dc-44f8-a199-22d09ca7abff",
   "metadata": {},
   "outputs": [
    {
     "data": {
      "image/png": "[encoded data removed]",
      "text/plain": [
       "<Figure size 640x480 with 1 Axes>"
      ]
     },
     "metadata": {},
     "output_type": "display_data"
    }
   ],
   "source": [
    "plt.plot(history_1.history['accuracy'])\n",
    "plt.plot(history_1.history['val_accuracy'])\n",
    "plt.title('Model Accuracy')\n",
    "plt.ylabel('Accuracy')\n",
    "plt.xlabel('Epoch')\n",
    "plt.legend(['Train', 'Validation'], loc='upper left')\n",
    "plt.show()"
   ]
  },
  {
   "cell_type": "markdown",
   "id": "66b6cda9-be17-4264-948a-dfb36abf4b08",
   "metadata": {},
   "source": [
    "## Interpretation:\n",
    "\n",
    "The \"Model Accuracy\" plot displays the training and validation accuracy of a CNN model over 14 epochs, providing insights into its learning behavior:\n",
    "\n",
    "- **Training Accuracy (Blue Line)**: Starts near 0.90 and rises steadily to 1.0 by epoch 14, indicating the model fits the training data almost perfectly, suggesting robust learning or potential overfitting.\n",
    "- **Validation Accuracy (Orange Line)**: Begins around 0.98, fluctuates slightly between 0.98 and 0.99, and plateaus after epoch 8, showing the model generalizes well to unseen data but struggles to improve beyond this range.\n",
    "- **Convergence and Gap**: The training accuracy surpasses validation accuracy after epoch 4, with the gap widening slightly, hinting at possible overfitting as the model memorizes training data rather than learning generalizable patterns.\n",
    "- **Plateau and Fluctuations**: The validation accuracy's stabilization around 0.98-0.99 with minor dips (e.g., around epochs 6-10) suggests the model reaches a performance limit, possibly due to insufficient regularization or an early stopping point.\n",
    "- **Overall Performance**: With validation accuracy consistently above 0.98, the model performs strongly, but the plateau and training-validation gap indicate opportunities for optimization (e.g., adding dropout, data augmentation, or extending epochs) to enhance generalization."
   ]
  },
  {
   "cell_type": "code",
   "execution_count": 577,
   "id": "427fb35c-768b-4fec-95a2-6ef924eab77d",
   "metadata": {},
   "outputs": [
    {
     "name": "stdout",
     "output_type": "stream",
     "text": [
      "Epoch 1/25\n",
      "844/844 - 43s - 51ms/step - accuracy: 0.9118 - loss: 0.2827 - val_accuracy: 0.9555 - val_loss: 0.1507 - learning_rate: 0.0010\n",
      "Epoch 2/25\n",
      "844/844 - 39s - 47ms/step - accuracy: 0.9712 - loss: 0.0967 - val_accuracy: 0.9810 - val_loss: 0.0605 - learning_rate: 0.0010\n",
      "Epoch 3/25\n",
      "844/844 - 38s - 45ms/step - accuracy: 0.9752 - loss: 0.0786 - val_accuracy: 0.9708 - val_loss: 0.0936 - learning_rate: 0.0010\n",
      "Epoch 4/25\n",
      "844/844 - 39s - 46ms/step - accuracy: 0.9801 - loss: 0.0657 - val_accuracy: 0.9882 - val_loss: 0.0368 - learning_rate: 0.0010\n",
      "Epoch 5/25\n",
      "844/844 - 38s - 46ms/step - accuracy: 0.9821 - loss: 0.0588 - val_accuracy: 0.9887 - val_loss: 0.0388 - learning_rate: 0.0010\n",
      "Epoch 6/25\n",
      "844/844 - 39s - 46ms/step - accuracy: 0.9822 - loss: 0.0568 - val_accuracy: 0.9898 - val_loss: 0.0356 - learning_rate: 0.0010\n",
      "Epoch 7/25\n",
      "844/844 - 38s - 45ms/step - accuracy: 0.9844 - loss: 0.0519 - val_accuracy: 0.9910 - val_loss: 0.0378 - learning_rate: 0.0010\n",
      "Epoch 8/25\n",
      "844/844 - 38s - 45ms/step - accuracy: 0.9854 - loss: 0.0491 - val_accuracy: 0.9905 - val_loss: 0.0367 - learning_rate: 0.0010\n",
      "Epoch 9/25\n",
      "844/844 - 38s - 45ms/step - accuracy: 0.9860 - loss: 0.0459 - val_accuracy: 0.9860 - val_loss: 0.0456 - learning_rate: 0.0010\n",
      "Epoch 10/25\n",
      "844/844 - 39s - 47ms/step - accuracy: 0.9900 - loss: 0.0340 - val_accuracy: 0.9923 - val_loss: 0.0296 - learning_rate: 5.0000e-04\n",
      "Epoch 11/25\n",
      "844/844 - 38s - 45ms/step - accuracy: 0.9899 - loss: 0.0320 - val_accuracy: 0.9918 - val_loss: 0.0297 - learning_rate: 5.0000e-04\n",
      "Epoch 12/25\n",
      "844/844 - 38s - 45ms/step - accuracy: 0.9908 - loss: 0.0298 - val_accuracy: 0.9898 - val_loss: 0.0373 - learning_rate: 5.0000e-04\n",
      "Epoch 13/25\n",
      "844/844 - 40s - 48ms/step - accuracy: 0.9911 - loss: 0.0298 - val_accuracy: 0.9920 - val_loss: 0.0286 - learning_rate: 5.0000e-04\n",
      "Epoch 14/25\n",
      "844/844 - 38s - 45ms/step - accuracy: 0.9911 - loss: 0.0290 - val_accuracy: 0.9927 - val_loss: 0.0284 - learning_rate: 5.0000e-04\n",
      "Epoch 15/25\n",
      "844/844 - 38s - 45ms/step - accuracy: 0.9911 - loss: 0.0285 - val_accuracy: 0.9915 - val_loss: 0.0298 - learning_rate: 5.0000e-04\n",
      "Epoch 16/25\n",
      "844/844 - 38s - 45ms/step - accuracy: 0.9909 - loss: 0.0292 - val_accuracy: 0.9928 - val_loss: 0.0258 - learning_rate: 5.0000e-04\n",
      "Epoch 17/25\n",
      "844/844 - 37s - 44ms/step - accuracy: 0.9921 - loss: 0.0263 - val_accuracy: 0.9930 - val_loss: 0.0246 - learning_rate: 5.0000e-04\n",
      "Epoch 18/25\n",
      "844/844 - 38s - 45ms/step - accuracy: 0.9915 - loss: 0.0266 - val_accuracy: 0.9928 - val_loss: 0.0275 - learning_rate: 5.0000e-04\n",
      "Epoch 19/25\n",
      "844/844 - 38s - 45ms/step - accuracy: 0.9920 - loss: 0.0256 - val_accuracy: 0.9928 - val_loss: 0.0288 - learning_rate: 5.0000e-04\n",
      "Epoch 20/25\n",
      "844/844 - 38s - 45ms/step - accuracy: 0.9918 - loss: 0.0264 - val_accuracy: 0.9913 - val_loss: 0.0286 - learning_rate: 5.0000e-04\n",
      "Epoch 21/25\n",
      "844/844 - 38s - 45ms/step - accuracy: 0.9934 - loss: 0.0208 - val_accuracy: 0.9933 - val_loss: 0.0251 - learning_rate: 2.5000e-04\n",
      "Epoch 22/25\n",
      "844/844 - 38s - 45ms/step - accuracy: 0.9939 - loss: 0.0192 - val_accuracy: 0.9942 - val_loss: 0.0213 - learning_rate: 2.5000e-04\n",
      "Epoch 23/25\n",
      "844/844 - 38s - 45ms/step - accuracy: 0.9937 - loss: 0.0201 - val_accuracy: 0.9935 - val_loss: 0.0255 - learning_rate: 2.5000e-04\n",
      "Epoch 24/25\n",
      "844/844 - 38s - 45ms/step - accuracy: 0.9944 - loss: 0.0184 - val_accuracy: 0.9937 - val_loss: 0.0226 - learning_rate: 2.5000e-04\n",
      "Epoch 25/25\n",
      "844/844 - 38s - 45ms/step - accuracy: 0.9936 - loss: 0.0198 - val_accuracy: 0.9935 - val_loss: 0.0226 - learning_rate: 2.5000e-04\n"
     ]
    }
   ],
   "source": [
    "# Assume X_train_normalized and y_train_encoded are available\n",
    "# Manually split the data into training and validation sets\n",
    "from sklearn.model_selection import train_test_split\n",
    "X_train_split, X_val_split, y_train_split, y_val_split = train_test_split(\n",
    "    X_train_normalized, y_train_encoded, test_size=0.1, random_state=42\n",
    ")\n",
    "\n",
    "# Define the optimized model with additional layers and regularization\n",
    "model = Sequential([\n",
    "    Conv2D(64, (3, 3), activation='relu', input_shape=(28, 28, 1), padding='same'),\n",
    "    BatchNormalization(),\n",
    "    MaxPooling2D((2, 2)),\n",
    "    Conv2D(32, (3, 3), activation='relu', padding='same'),\n",
    "    BatchNormalization(),\n",
    "    MaxPooling2D((2, 2)),\n",
    "    Conv2D(32, (3, 3), activation='relu', padding='same'),\n",
    "    BatchNormalization(),\n",
    "    MaxPooling2D((2, 2)),\n",
    "    Flatten(),\n",
    "    Dense(128, activation='relu'),\n",
    "    Dropout(0.3),\n",
    "    Dense(10, activation='softmax')\n",
    "])\n",
    "\n",
    "# Compile the model\n",
    "model.compile(optimizer='adam', loss='categorical_crossentropy', metrics=['accuracy'])\n",
    "\n",
    "# Data augmentation\n",
    "datagen = ImageDataGenerator(\n",
    "    rotation_range=10,\n",
    "    width_shift_range=0.1,\n",
    "    height_shift_range=0.1,\n",
    "    zoom_range=0.1\n",
    ")\n",
    "datagen.fit(X_train_split)\n",
    "\n",
    "# Callbacks\n",
    "lr_scheduler = ReduceLROnPlateau(monitor='val_loss', factor=0.5, patience=3, min_lr=0.00001)\n",
    "early_stopping = EarlyStopping(monitor='val_loss', patience=5, restore_best_weights=True)\n",
    "\n",
    "# Train the model with optimized parameters and separate validation data\n",
    "history_1 = model.fit(\n",
    "    datagen.flow(X_train_split, y_train_split, batch_size=64),\n",
    "    epochs=25,\n",
    "    validation_data=(X_val_split, y_val_split),  # Use separate validation data instead of validation_split\n",
    "    shuffle=True,\n",
    "    batch_size=64,\n",
    "    verbose=2,\n",
    "    callbacks=[lr_scheduler, early_stopping]\n",
    ")"
   ]
  },
  {
   "cell_type": "code",
   "execution_count": 579,
   "id": "4d528163-e89f-4f4e-9e1b-b74f9ab73bdb",
   "metadata": {},
   "outputs": [
    {
     "data": {
      "image/png": "[encoded data removed]",
      "text/plain": [
       "<Figure size 640x480 with 1 Axes>"
      ]
     },
     "metadata": {},
     "output_type": "display_data"
    }
   ],
   "source": [
    "# Plotting\n",
    "import matplotlib.pyplot as plt\n",
    "plt.plot(history_1.history['accuracy'])\n",
    "plt.plot(history_1.history['val_accuracy'])\n",
    "plt.title('Model Accuracy')\n",
    "plt.ylabel('Accuracy')\n",
    "plt.xlabel('Epoch')\n",
    "plt.legend(['Train', 'Validation'], loc='upper left')\n",
    "plt.show()"
   ]
  },
  {
   "cell_type": "markdown",
   "id": "84d39e1e-ce3e-4e37-bb22-4a13f4f2cb49",
   "metadata": {},
   "source": [
    "## Interpretation:\r\n",
    "\r\n",
    "The \"Model Accuracy\" plot illustrates the performance of a CNN model over 25 epochs, with training and validation accuracies tracked:\r\n",
    "\r\n",
    "- **Training Accuracy (Blue Line)**: Starts at 0.92 and rises steadily to around 0.99 by epoch 10, maintaining this level through epoch 25, indicating the model effectively learns the training data, though it may risk overfitting.\r\n",
    "- **Validation Accuracy (Orange Line)**: Begins near 0.98, shows initial fluctuations (e.g., a dip around epoch 5), and stabilizes around 0.99 from epoch 15 onward, reflecting strong generalization to unseen data.\r\n",
    "- **Convergence and Stability**: Both accuracies converge to ~0.99, with minimal gap after epoch 15, suggesting optimizations (e.g., dropout, batch normalization) successfully reduce overfitting and enhance stability.\r\n",
    "- **Impact of Extended Epochs**: Training for 25 epochs allows the model to refine its weights further, as seen in the validation accuracy's steady state, likely benefiting from the learning rate scheduler and early stopping.\r\n",
    "- **Overall Performance**: The model achieves a high validation accuracy of ~0.99, a slight improvement over previous runs (e.g., 0.98-0.99 at 14 epochs), demonstrating the effectiveness of the optimization strategies in achieving consistent and robust performance.ctively."
   ]
  },
  {
   "cell_type": "markdown",
   "id": "93f3e70d-534a-470e-b22c-631ff8a00729",
   "metadata": {},
   "source": [
    "### Evaluating the model on test data:"
   ]
  },
  {
   "cell_type": "code",
   "execution_count": 583,
   "id": "3c9b5ca3-8910-49e9-b0f4-f4f21713edbe",
   "metadata": {},
   "outputs": [
    {
     "name": "stdout",
     "output_type": "stream",
     "text": [
      "313/313 - 1s - 3ms/step - accuracy: 0.9951 - loss: 0.0145\n"
     ]
    }
   ],
   "source": [
    "accuracy = model.evaluate(X_test_normalized, y_test_encoded, verbose=2)"
   ]
  },
  {
   "cell_type": "markdown",
   "id": "2e72dc58-20d7-4f00-8d96-b4500a6a35b2",
   "metadata": {},
   "source": [
    "### Generating the predictions using test data:"
   ]
  },
  {
   "cell_type": "code",
   "execution_count": 585,
   "id": "8bed0a6f-3497-446b-8a6f-32dfabb2435b",
   "metadata": {},
   "outputs": [
    {
     "name": "stdout",
     "output_type": "stream",
     "text": [
      "\u001b[1m313/313\u001b[0m \u001b[32m━━━━━━━━━━━━━━━━━━━━\u001b[0m\u001b[37m\u001b[0m \u001b[1m1s\u001b[0m 4ms/step\n"
     ]
    }
   ],
   "source": [
    "# the output will be provided as probability scores for each category\n",
    "y_pred=model.predict(X_test_normalized)"
   ]
  },
  {
   "cell_type": "code",
   "execution_count": 587,
   "id": "1a3cc510-2b37-494d-b04a-d3f388bc48f7",
   "metadata": {},
   "outputs": [
    {
     "data": {
      "text/plain": [
       "array([[5.8964416e-15, 2.8644310e-08, 8.1202227e-09, ..., 9.9999988e-01,\n",
       "        5.8893584e-12, 8.1749507e-10],\n",
       "       [7.3512958e-12, 8.2608115e-11, 1.0000000e+00, ..., 3.8679021e-12,\n",
       "        6.3797383e-14, 1.0478119e-14],\n",
       "       [1.0439504e-09, 9.9999821e-01, 3.6172378e-09, ..., 7.9805950e-08,\n",
       "        5.9875042e-08, 1.7573690e-08],\n",
       "       ...,\n",
       "       [2.3130706e-18, 1.1439524e-11, 5.6887294e-12, ..., 2.9137088e-09,\n",
       "        1.2461539e-08, 2.2327697e-09],\n",
       "       [3.9260951e-15, 7.2924421e-17, 1.4050491e-16, ..., 9.7729384e-23,\n",
       "        2.2753345e-10, 2.2446145e-13],\n",
       "       [1.4242650e-09, 1.6678440e-15, 1.0994033e-13, ..., 3.7116408e-22,\n",
       "        5.3829326e-11, 3.3512194e-14]], dtype=float32)"
      ]
     },
     "execution_count": 587,
     "metadata": {},
     "output_type": "execute_result"
    }
   ],
   "source": [
    "y_pred"
   ]
  },
  {
   "cell_type": "markdown",
   "id": "11b8184d-7fbd-494f-9456-473f5cf4d79c",
   "metadata": {},
   "source": [
    "### Plotting the Confusion Matrix:"
   ]
  },
  {
   "cell_type": "code",
   "execution_count": 589,
   "id": "06d8e93e-aad7-4114-809d-9854dc6dbc7c",
   "metadata": {},
   "outputs": [
    {
     "data": {
      "image/png": "[encoded data removed]",
      "text/plain": [
       "<Figure size 800x600 with 2 Axes>"
      ]
     },
     "metadata": {},
     "output_type": "display_data"
    }
   ],
   "source": [
    "# Obtaining the categorical values from y_test_encoded and y_pred\n",
    "y_pred_arg=np.argmax(y_pred,axis=1)\n",
    "y_test_arg=np.argmax(y_test_encoded,axis=1)\n",
    "\n",
    "# Plotting the Confusion Matrix using confusion matrix() function which is also predefined tensorflow module\n",
    "confusion_matrix = tf.math.confusion_matrix(y_test_arg,y_pred_arg)\n",
    "f, ax = plt.subplots(figsize=(8, 6))\n",
    "sns.heatmap(\n",
    "    confusion_matrix,\n",
    "    annot=True,\n",
    "    linewidths=.4,\n",
    "    fmt=\"d\",\n",
    "    square=True,\n",
    "    ax=ax\n",
    ")\n",
    "plt.show()"
   ]
  },
  {
   "cell_type": "markdown",
   "id": "d68d2270-3b9e-4ab5-96da-7bdeecd96b28",
   "metadata": {},
   "source": [
    "## Interpretation:\n",
    "\r\n",
    "This confusion matrix reflects a CNN model's performance on a 10-class classification task (likely digits 0-9), with rows as true labels and columns as predicted labels. Key points:\r\n",
    "\r\n",
    "- **High Accuracy**: Diagonal values (e.g., 977 for class 0, 1130 for class 1) are strong, aligning with a validation accuracy of ~0.99, indicating effective classification.\r\n",
    "- **Misclassifications**: Notable errors include class 4 → 9 (12), class 5 → 9 (12), and class 9 → 4 (7), likely due to visual similarities.\r\n",
    "- **Improvement**: Compared to prior matrices, errors are minimal, with optimizations (e.g., dropout, data augmentation) enhancing consistency and accuracy across classes.es.cy across classes.lasses correctly."
   ]
  },
  {
   "cell_type": "markdown",
   "id": "4b9761f8-169c-4ac2-b7fb-ead26facac7c",
   "metadata": {},
   "source": [
    "## Step 7: Comparing the number of parameters in ANNs and CNNs"
   ]
  },
  {
   "cell_type": "markdown",
   "id": "a40f674b-b42d-4eb8-a10b-fd1367279d7c",
   "metadata": {},
   "source": [
    "### Confusion Matrix Values\r\n",
    "\r\n",
    "| **ANN True\\Pred** | 0   | 1    | 2    | 3   | 4   | 5   | 6   | 7    | 8   | 9   | | **CNN True\\Pred** | 0   | 1    | 2    | 3   | 4   | 5   | 6   | 7    | 8   | 9   |\r\n",
    "|-------------------|-----|------|------|-----|-----|-----|-----|------|-----|-----|-|-------------------|-----|------|------|-----|-----|-----|-----|------|-----|-----|\r\n",
    "| **0**             | 969 | 0    | 0    | 0   | 0   | 2   | 3   | 1    | 3   | 0   | | **0**             | 977 | 0    | 0    | 0   | 0   | 1   | 1   | 0    | 3   | 0   |\r\n",
    "| **1**             | 0   | 1121 | 5    | 0   | 0   | 1   | 2   | 2    | 4   | 0   | | **1**             | 0   | 1130 | 2    | 0   | 0   | 1   | 2   | 2    | 0   | 0   |\r\n",
    "| **2**             | 3   | 0    | 1007 | 4   | 0   | 4   | 7   | 6    | 0   | 1   | | **2**             | 3   | 0    | 1007 | 4   | 0   | 4   | 7   | 6    | 0   | 1   |\r\n",
    "| **3**             | 0   | 0    | 7    | 988 | 0   | 2   | 0   | 6    | 4   | 3   | | **3**             | 0   | 0    | 7    | 988 | 0   | 2   | 0   | 6    | 4   | 3   |\r\n",
    "| **4**             | 2   | 0    | 5    | 0   | 956 | 0   | 3   | 3    | 1   | 12  | | **4**             | 2   | 0    | 5    | 0   | 956 | 0   | 3   | 3    | 1   | 12  |\r\n",
    "| **5**             | 3   | 0    | 0    | 5   | 0   | 866 | 11  | 2    | 2   | 3   | | **5**             | 3   | 0    | 0    | 5   | 0   | 863 | 9   | 2    | 2   | 12  |\r\n",
    "| **6**             | 5   | 3    | 1    | 1   | 4   | 2   | 939 | 0    | 3   | 0   | | **6**             | 5   | 3    | 1    | 1   | 4   | 2   | 939 | 0    | 3   | 0   |\r\n",
    "| **7**             | 0   | 3    | 7    | 1   | 0   | 0   | 0   | 1013 | 1   | 3   | | **7**             | 0   | 3    | 7    | 1   | 0   | 0   | 0   | 1013 | 1   | 3   |\r\n",
    "| **8**             | 4   | 0    | 5    | 5   | 1   | 3   | 3   | 8    | 944 | 1   | | **8**             | 4   | 0    | 5    | 5   | 1   | 3   | 3   | 8    | 944 | 1   |\r\n",
    "| **9**             | 4   | 5    | 0    | 7   | 7   | 1   | 0   | 8    | 2   | 975 | | **9**             | 4   | 5    | 0    | 7   | 7   | 1   | 0   | 8    | 2   | 975 |confusion matrix."
   ]
  },
  {
   "cell_type": "markdown",
   "id": "7247eb45-e50d-451b-ade5-da710bf04409",
   "metadata": {},
   "source": [
    "### Overall Performance Interpretation:\n",
    "\n",
    "- **Accuracy**: The CNN outperforms the ANN, achieving a peak validation accuracy of 0.9942 by epoch 22, compared to the ANN's 0.9780 by epoch 15, a ~1.6% improvement, reflecting superior generalization.\n",
    "- **Convergence**: The CNN reaches a validation accuracy of 0.9810 by epoch 2 and peaks at 0.9942, with faster convergence than the ANN, which plateaus at 0.9780, aided by batch normalization and a learning rate scheduler.\n",
    "- **Misclassifications**: Both models show similar errors (e.g., class 4 → 9 at 12), but the CNN reduces errors like class 5 → 6 (9 vs. 11) and increases correct predictions (e.g., 977 vs. 969 for class 0), leveraging its convolutional layers.\n",
    "- **Optimization Impact**: The CNN's enhancements (e.g., dropout, data augmentation, extended epochs to 25) result in better consistency and lower validation loss (0.0213 vs. 0.0739), demonstrating the effectiveness of its optimized design over the ANN."
   ]
  }
 ],
 "metadata": {
  "kernelspec": {
   "display_name": "Python [conda env:base] *",
   "language": "python",
   "name": "conda-base-py"
  },
  "language_info": {
   "codemirror_mode": {
    "name": "ipython",
    "version": 3
   },
   "file_extension": ".py",
   "mimetype": "text/x-python",
   "name": "python",
   "nbconvert_exporter": "python",
   "pygments_lexer": "ipython3",
   "version": "3.11.5"
  }
 },
 "nbformat": 4,
 "nbformat_minor": 5
}
